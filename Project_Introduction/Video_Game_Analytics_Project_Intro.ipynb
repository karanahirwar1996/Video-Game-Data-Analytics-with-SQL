{
 "cells": [
  {
   "cell_type": "markdown",
   "metadata": {},
   "source": [
    "# Project : VIDEO GAME ANALYSIS"
   ]
  },
  {
   "cell_type": "markdown",
   "metadata": {},
   "source": [
    "**Objective :**  The project extracts, transforms, and loads (ETL) live video game sales data  from https://www.vgchartz.com into an SQL Database. Further we analyse this data using SQL to capture some important sales information."
   ]
  },
  {
   "cell_type": "markdown",
   "metadata": {},
   "source": [
    "**Major Steps**      \n",
    "\n",
    "*  Perform webscraping to extract data from given url \n",
    "*  Perform data exploration, preprocessing\n",
    "*  Connecting to a Postgres SQL database from python script\n",
    "*  CRUD operations in database from script\n",
    "*  querying the data in Postgres SQL"
   ]
  },
  {
   "cell_type": "markdown",
   "metadata": {},
   "source": [
    "**Information about VGchartz website**\n",
    "\n",
    "The VGChartz Network is a collection of five video game websites: VGChartz, gamrFeed, gamrReview, gamrTV, and gamrConnect. VGChartz sits at the center of the network and is a video game sales tracking website, providing weekly sales figures of console software and hardware by region"
   ]
  },
  {
   "cell_type": "markdown",
   "metadata": {},
   "source": [
    "# Extract"
   ]
  },
  {
   "cell_type": "markdown",
   "metadata": {},
   "source": [
    "Collect data from vgchartz (https://www.vgchartz.com/games/games.php?page=2&results=200&order=Sales&ownership=Both&direction=DESC&showtotalsales=1&shownasales=1&showpalsales=1&showjapansales=1&showothersales=1&showpublisher=1&showdeveloper=0&showreleasedate=1&showlastupdate=1&showvgchartzscore=1&showcriticscore=1&showuserscore=1&showshipped=1)"
   ]
  },
  {
   "cell_type": "markdown",
   "metadata": {},
   "source": [
    "The data should be collected for first 3 pages in a csv file for the columns - ['Game', 'Console', 'Publisher', 'Developer', 'VGChartz Score',\n",
    "       'Critic Score', 'User Score', 'Total Shipped', 'Total Sales',\n",
    "       'NA Sales', 'PAL Sales', 'Japan Sales', 'Other Sales', 'Release Date',\n",
    "       'Genre']. (it might take some time to scrap all the three pages "
   ]
  },
  {
   "cell_type": "markdown",
   "metadata": {},
   "source": [
    " In this project i will collect the data in two ways :\n",
    "1. Using BeautifulSoup\n",
    "2. Using Selenium"
   ]
  },
  {
   "cell_type": "markdown",
   "metadata": {},
   "source": [
    "# Transform"
   ]
  },
  {
   "cell_type": "markdown",
   "metadata": {},
   "source": [
    "This step is also called Data Preprocessing step"
   ]
  },
  {
   "cell_type": "markdown",
   "metadata": {},
   "source": [
    "Do the following clean up and transformation steps to the raw video games data obtained from the Extraction process:\n",
    "\n",
    "* Delete games without sales data (delete only those rows where total shipped and total sales both are missing and not where only total sales is missing)\n",
    "\n",
    "* Remove unwanted columns and rename the columns\n",
    "\n",
    "* Add Release year column\n",
    "\n",
    "* Convert Release date values to date format and Sales values to float format\n",
    "\n",
    "* Write the transformed video games data into CSV file to be used for the Load process\n",
    "\n"
   ]
  },
  {
   "cell_type": "markdown",
   "metadata": {},
   "source": [
    "#LOAD "
   ]
  },
  {
   "cell_type": "markdown",
   "metadata": {},
   "source": [
    "Load the transformed video games data into PostgreSQL Database"
   ]
  },
  {
   "cell_type": "markdown",
   "metadata": {},
   "source": [
    "We will complete the following steps in this phase:\n",
    "\n",
    "\n",
    "*  Create a SQL script for table creation according to schema provided in ERD diagram in PostgreSQL\n",
    "*  Split the transformed data based on the SQL schema designed above\n",
    "*  Connect to PostgreSQL from Colab and dump the data from dataframes into respective tables ."
   ]
  },
  {
   "cell_type": "markdown",
   "metadata": {},
   "source": [
    "# Data Analysis"
   ]
  },
  {
   "cell_type": "markdown",
   "metadata": {},
   "source": [
    "Perform the following analysis in PostgreSQL after building the complete database:\n",
    "\n",
    "1.Write a SQL query to determine the year in which North America had highest video games sales.\n",
    "\n",
    "2.Write a SQL query to determine the year in which the global sales was highest.\n",
    "\n",
    "3.Write a SQL query to determine the year in which the total shipped was highest.\n",
    "\n",
    "4.Write a SQL query to determine the most popular video game console in North America.\n",
    "\n",
    "5.Write a SQL query to determine the most popular video game console in PAL.\n",
    "\n",
    "6.Write a SQL query to determine the most popular video game console in Japan.\n",
    "\n",
    "7.Write a SQL query to determine the most popular video game console in Other regions.\n",
    "\n",
    "8.Write a SQL query to determine the most popular video game console globally.\n",
    "\n",
    "9.Write a SQL query to determine the most shipped video game console.\n",
    "\n",
    "10.Write a SQL query to determine the most popular video game across various consoles.\n",
    "\n",
    "11.Write a SQL query to determine the most popular video game across various genres."
   ]
  }
 ],
 "metadata": {
  "kernelspec": {
   "display_name": "Python 3.10.4 ('introductory_data_analytics')",
   "language": "python",
   "name": "python3"
  },
  "language_info": {
   "name": "python",
   "version": "3.10.4"
  },
  "orig_nbformat": 4,
  "vscode": {
   "interpreter": {
    "hash": "33d1ecab7587c5648df95d38462c1769779e253fa5faa8966a55367e0014d6ea"
   }
  }
 },
 "nbformat": 4,
 "nbformat_minor": 2
}
