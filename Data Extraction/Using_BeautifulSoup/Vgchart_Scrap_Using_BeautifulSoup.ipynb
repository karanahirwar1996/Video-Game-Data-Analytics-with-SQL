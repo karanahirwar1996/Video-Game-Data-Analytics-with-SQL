{
  "nbformat": 4,
  "nbformat_minor": 0,
  "metadata": {
    "colab": {
      "provenance": []
    },
    "kernelspec": {
      "name": "python3",
      "display_name": "Python 3"
    },
    "language_info": {
      "name": "python"
    }
  },
  "cells": [
    {
      "cell_type": "markdown",
      "source": [
        "# Extract Data Using BeautifulSoup Library"
      ],
      "metadata": {
        "id": "TMw9zXqodpYK"
      }
    },
    {
      "cell_type": "markdown",
      "source": [
        "VgChart Scrapping Using BeautifulSoup Following Steps Involves :\n",
        "1. Import Required libraries\n",
        "2. Using requests library download web page and validate\n",
        "3. For accesss the web page content,use .text property of the response and   Create a BeautifulSoup object to parse the content\n",
        "4. Define the function for extract header from Vgchart\n",
        "5. Define the function for extract value in list of dictinory.\n",
        "6. Create 6 variable which contain list of dictinory.\n",
        "7. Create 6 DataFrame using pandas library.\n",
        "8. Import drive and save the file in csv format in google drive location.\n",
        "9. Using os module find out list of directory in VG_chart_file folder and with the help of loop find out final_df"
      ],
      "metadata": {
        "id": "2VQn0jyxUrnY"
      }
    },
    {
      "cell_type": "markdown",
      "source": [
        "**Step 1.** Import Required libraries"
      ],
      "metadata": {
        "id": "rH9rJbXy-ZZc"
      }
    },
    {
      "cell_type": "code",
      "execution_count": null,
      "metadata": {
        "id": "4bn4SZvuu2ml"
      },
      "outputs": [],
      "source": [
        "import requests\n",
        "from bs4 import BeautifulSoup\n",
        "import time\n",
        "import random\n",
        "import pandas as pd\n",
        "import os"
      ]
    },
    {
      "cell_type": "markdown",
      "source": [
        "**Step 2.** Using requests library download web page and validate"
      ],
      "metadata": {
        "id": "k3ksg-Qi-0UY"
      }
    },
    {
      "cell_type": "code",
      "source": [
        "url='https://www.vgchartz.com/games/games.php?page=1&results=200&order=Sales&ownership=Both&direction=DESC&showtotalsales=1&shownasales=1&showpalsales=1&showjapansales=1&showothersales=1&showpublisher=1&showdeveloper=0&showreleasedate=1&showlastupdate=1&showvgchartzscore=1&showcriticscore=1&showuserscore=1&showshipped=1'\n",
        "response=requests.get(url)\n",
        "print(response.status_code)"
      ],
      "metadata": {
        "id": "NrzplP27u_En",
        "colab": {
          "base_uri": "https://localhost:8080/"
        },
        "outputId": "9b1bde03-fb22-4cac-8ccc-c5feabc6e92e"
      },
      "execution_count": null,
      "outputs": [
        {
          "output_type": "stream",
          "name": "stdout",
          "text": [
            "200\n"
          ]
        }
      ]
    },
    {
      "cell_type": "markdown",
      "source": [
        "**Step 3.** For accesss the web page content,use .text property of the response and  Create a BeautifulSoup object to parse the content"
      ],
      "metadata": {
        "id": "BFsQ7qz1-58r"
      }
    },
    {
      "cell_type": "code",
      "source": [
        "page_content=response.text\n",
        "doc=BeautifulSoup(page_content)"
      ],
      "metadata": {
        "id": "agfU4_7HvBo4"
      },
      "execution_count": null,
      "outputs": []
    },
    {
      "cell_type": "markdown",
      "source": [
        "**Step 4.**Define the function for extract header from Vgchart"
      ],
      "metadata": {
        "id": "6EwjDRu6_Azh"
      }
    },
    {
      "cell_type": "code",
      "source": [
        "def extract_header(soup_object):\n",
        "        var=[]\n",
        "        for i in range(3,17):\n",
        "            x=soup_object.find('table').find_all('th',{'style':True})[i].text.strip()\n",
        "            var.append(x)\n",
        "        return var"
      ],
      "metadata": {
        "id": "dlnXggGGvM-d"
      },
      "execution_count": null,
      "outputs": []
    },
    {
      "cell_type": "code",
      "source": [
        "header_list=extract_header(doc)\n",
        "print(header_list)"
      ],
      "metadata": {
        "colab": {
          "base_uri": "https://localhost:8080/"
        },
        "id": "KLU6M0NQf66F",
        "outputId": "eb9c09f9-a78f-4a97-b8b3-fe47ac05435c"
      },
      "execution_count": null,
      "outputs": [
        {
          "output_type": "stream",
          "name": "stdout",
          "text": [
            "['Game', 'Console', 'Publisher', 'VGChartz Score', 'Critic Score', 'User Score', 'Total Shipped', 'Total Sales', 'NA Sales', 'PAL Sales', 'Japan Sales', 'Other Sales', 'Release Date', 'Last Update']\n"
          ]
        }
      ]
    },
    {
      "cell_type": "markdown",
      "source": [
        "**Step 5.**Define the function for extract value in list of dictinory."
      ],
      "metadata": {
        "id": "ylQUkPzC_hiZ"
      }
    },
    {
      "cell_type": "code",
      "source": [
        "def extract_values(header_list,page_number):\n",
        "                final=[]    \n",
        "                base_url = f'https://www.vgchartz.com/games/games.php?page={page_number}&results=200&order=Sales&ownership=Both&direction=DESC&showtotalsales=1&shownasales=1&showpalsales=1&showjapansales=1&showothersales=1&showpublisher=1&showdeveloper=0&showreleasedate=1&showlastupdate=1&showvgchartzscore=1&showcriticscore=1&showuserscore=1&showshipped=1'\n",
        "                response=requests.get(base_url)\n",
        "                page_content=response.text\n",
        "                soup_object=BeautifulSoup(page_content)\n",
        "                for i in range(200):\n",
        "                    u=soup_object.find('table').find_all('tr',{'style':True})[i]\n",
        "                    new=[]\n",
        "                    for x in u.find_all('td')[2:]:\n",
        "                        if x.text.strip()!='':\n",
        "                            new.append(x.text.strip())\n",
        "                        else:\n",
        "                            new.append(x.find('img')['alt'])\n",
        "                    dict_intial=dict(zip(header_list,new))\n",
        "                    u=soup_object.find('table').find_all('tr',{'style':True})[i]\n",
        "                    res=requests.get(u.find('td',style=\"font-size:12pt;\").find('a')['href'])\n",
        "                    soup=BeautifulSoup(res.text)\n",
        "                    h2tags=soup.find('div',id=\"gameGenInfoBox\").find_all('h2')\n",
        "                    temp_tag = None\n",
        "                    for tags in h2tags:\n",
        "                        if tags.text=='Genre':\n",
        "                            temp_tag = tags\n",
        "                    dict_intial['Genre']=temp_tag.next_sibling.text\n",
        "                    final.append(dict_intial)\n",
        "                    time.sleep(random.randint(2,4)) #Script will be stopped for a period of time ranging from 2 to 4 seconds.\n",
        "                return final"
      ],
      "metadata": {
        "id": "yOwUCPrkvbut"
      },
      "execution_count": null,
      "outputs": []
    },
    {
      "cell_type": "markdown",
      "source": [
        "**Step 6**.Create 6 variable which contain list of dictinory."
      ],
      "metadata": {
        "id": "2k1eY5vx_xzR"
      }
    },
    {
      "cell_type": "code",
      "source": [
        "df=extract_values(header_list,1)"
      ],
      "metadata": {
        "id": "4nDVhYz7h2Wa"
      },
      "execution_count": null,
      "outputs": []
    },
    {
      "cell_type": "code",
      "source": [
        "df2=extract_values(header_list,2)\n",
        "df3=extract_values(header_list,3)"
      ],
      "metadata": {
        "id": "xcB1ChVRR2zs"
      },
      "execution_count": null,
      "outputs": []
    },
    {
      "cell_type": "code",
      "source": [
        "df4=extract_values(header_list,4)"
      ],
      "metadata": {
        "id": "_pLlnq0cdo5I"
      },
      "execution_count": null,
      "outputs": []
    },
    {
      "cell_type": "code",
      "source": [
        "df5=extract_values(header_list,5)"
      ],
      "metadata": {
        "id": "GQYgrlBLiG9r"
      },
      "execution_count": null,
      "outputs": []
    },
    {
      "cell_type": "code",
      "source": [
        "df6=extract_values(header_list,6)"
      ],
      "metadata": {
        "id": "axELWielmF6f"
      },
      "execution_count": null,
      "outputs": []
    },
    {
      "cell_type": "markdown",
      "source": [
        "**Step 7.**Create 6 DataFrame using pandas library."
      ],
      "metadata": {
        "id": "z-du6MjtBOER"
      }
    },
    {
      "cell_type": "code",
      "source": [
        "vg_chart1=pd.DataFrame(df)\n",
        "vg_chart2=pd.DataFrame(df2)\n",
        "vg_chart3=pd.DataFrame(df3)"
      ],
      "metadata": {
        "id": "_E2cmOWQ8Tf5"
      },
      "execution_count": null,
      "outputs": []
    },
    {
      "cell_type": "code",
      "source": [
        "vg_chart4=pd.DataFrame(df4)\n",
        "vg_chart5=pd.DataFrame(df5)\n",
        "vg_chart6=pd.DataFrame(df6)"
      ],
      "metadata": {
        "id": "kAcVuXKDwXvW"
      },
      "execution_count": null,
      "outputs": []
    },
    {
      "cell_type": "markdown",
      "source": [
        "**Step 8.**import drive and save the file in csv format in google drive location."
      ],
      "metadata": {
        "id": "KNGYRonXI6g1"
      }
    },
    {
      "cell_type": "code",
      "source": [
        "from google.colab import drive\n",
        "drive.mount('/content/drive')"
      ],
      "metadata": {
        "colab": {
          "base_uri": "https://localhost:8080/"
        },
        "id": "k7ouAC7U_T0f",
        "outputId": "38ea5b4b-cace-4804-ba7e-a6ebc7986150"
      },
      "execution_count": null,
      "outputs": [
        {
          "output_type": "stream",
          "name": "stdout",
          "text": [
            "Drive already mounted at /content/drive; to attempt to forcibly remount, call drive.mount(\"/content/drive\", force_remount=True).\n"
          ]
        }
      ]
    },
    {
      "cell_type": "code",
      "source": [
        "vg_chart1.to_csv('/content/drive/MyDrive/Web_Scraping/Vg_Chart.com/Using_BeautifulSoup/VG_chart_file/vgchart_page1.csv',index=False)\n",
        "vg_chart2.to_csv('/content/drive/MyDrive/Web_Scraping/Vg_Chart.com/Using_BeautifulSoup/VG_chart_file/vgchart_page2.csv',index=False)\n",
        "vg_chart3.to_csv('/content/drive/MyDrive/Web_Scraping/Vg_Chart.com/Using_BeautifulSoup/VG_chart_file/vgchart_page3.csv',index=False)"
      ],
      "metadata": {
        "id": "uxI8qGNMsFwi"
      },
      "execution_count": null,
      "outputs": []
    },
    {
      "cell_type": "code",
      "source": [
        "vg_chart4.to_csv('/content/drive/MyDrive/Web_Scraping/Vg_Chart.com/Using_BeautifulSoup/VG_chart_file/vgchart_page4.csv',index=False)\n",
        "vg_chart5.to_csv('/content/drive/MyDrive/Web_Scraping/Vg_Chart.com/Using_BeautifulSoup/VG_chart_file/vgchart_page5.csv',index=False)\n",
        "vg_chart6.to_csv('/content/drive/MyDrive/Web_Scraping/Vg_Chart.com/Using_BeautifulSoup/VG_chart_file/vgchart_page6.csv',index=False)"
      ],
      "metadata": {
        "id": "Sq336IZdCS6d"
      },
      "execution_count": null,
      "outputs": []
    },
    {
      "cell_type": "code",
      "source": [
        "file_read=pd.read_csv('/content/drive/MyDrive/Web_Scraping/Vg_Chart.com/Using_BeautifulSoup/VG_chart_file/vgchart_page6.csv')\n",
        "file_read.head()"
      ],
      "metadata": {
        "colab": {
          "base_uri": "https://localhost:8080/",
          "height": 372
        },
        "id": "rd9J2XV2NmgW",
        "outputId": "a123ee68-958c-4bcb-cb07-69a228e1545f"
      },
      "execution_count": null,
      "outputs": [
        {
          "output_type": "execute_result",
          "data": {
            "text/plain": [
              "                        Game Console                    Publisher  \\\n",
              "0  Pokémon Trading Card Game      GB                     Nintendo   \n",
              "1            Ratchet & Clank     PS2  Sony Computer Entertainment   \n",
              "2                    FIFA 17    XOne              Electronic Arts   \n",
              "3  Hitman 2: Silent Assassin     All            Eidos Interactive   \n",
              "4           FIFA Soccer 2005     PS2                    EA Sports   \n",
              "\n",
              "   VGChartz Score  Critic Score  User Score Total Shipped Total Sales  \\\n",
              "0             NaN           8.3         NaN         3.72m         NaN   \n",
              "1             NaN           NaN         NaN         3.71m         NaN   \n",
              "2             NaN           8.8         NaN           NaN       3.71m   \n",
              "3             NaN           NaN         NaN         3.71m         NaN   \n",
              "4             NaN           8.4         NaN           NaN       3.70m   \n",
              "\n",
              "  NA Sales PAL Sales Japan Sales Other Sales Release Date  Last Update  \\\n",
              "0      NaN       NaN         NaN         NaN  10th Apr 00          NaN   \n",
              "1      NaN       NaN         NaN         NaN  07th Nov 02          NaN   \n",
              "2    1.04m     2.40m         NaN       0.27m  27th Sep 16  28th Mar 18   \n",
              "3      NaN       NaN         NaN         NaN  01st Oct 02  26th Oct 20   \n",
              "4    0.58m     2.48m       0.04m       0.59m  12th Oct 04          NaN   \n",
              "\n",
              "              Genre  \n",
              "0          Strategy  \n",
              "1          Platform  \n",
              "2            Sports  \n",
              "3  Action-Adventure  \n",
              "4            Sports  "
            ],
            "text/html": [
              "\n",
              "  <div id=\"df-042fa410-65aa-4512-adf5-59c3f9a00ef2\">\n",
              "    <div class=\"colab-df-container\">\n",
              "      <div>\n",
              "<style scoped>\n",
              "    .dataframe tbody tr th:only-of-type {\n",
              "        vertical-align: middle;\n",
              "    }\n",
              "\n",
              "    .dataframe tbody tr th {\n",
              "        vertical-align: top;\n",
              "    }\n",
              "\n",
              "    .dataframe thead th {\n",
              "        text-align: right;\n",
              "    }\n",
              "</style>\n",
              "<table border=\"1\" class=\"dataframe\">\n",
              "  <thead>\n",
              "    <tr style=\"text-align: right;\">\n",
              "      <th></th>\n",
              "      <th>Game</th>\n",
              "      <th>Console</th>\n",
              "      <th>Publisher</th>\n",
              "      <th>VGChartz Score</th>\n",
              "      <th>Critic Score</th>\n",
              "      <th>User Score</th>\n",
              "      <th>Total Shipped</th>\n",
              "      <th>Total Sales</th>\n",
              "      <th>NA Sales</th>\n",
              "      <th>PAL Sales</th>\n",
              "      <th>Japan Sales</th>\n",
              "      <th>Other Sales</th>\n",
              "      <th>Release Date</th>\n",
              "      <th>Last Update</th>\n",
              "      <th>Genre</th>\n",
              "    </tr>\n",
              "  </thead>\n",
              "  <tbody>\n",
              "    <tr>\n",
              "      <th>0</th>\n",
              "      <td>Pokémon Trading Card Game</td>\n",
              "      <td>GB</td>\n",
              "      <td>Nintendo</td>\n",
              "      <td>NaN</td>\n",
              "      <td>8.3</td>\n",
              "      <td>NaN</td>\n",
              "      <td>3.72m</td>\n",
              "      <td>NaN</td>\n",
              "      <td>NaN</td>\n",
              "      <td>NaN</td>\n",
              "      <td>NaN</td>\n",
              "      <td>NaN</td>\n",
              "      <td>10th Apr 00</td>\n",
              "      <td>NaN</td>\n",
              "      <td>Strategy</td>\n",
              "    </tr>\n",
              "    <tr>\n",
              "      <th>1</th>\n",
              "      <td>Ratchet &amp; Clank</td>\n",
              "      <td>PS2</td>\n",
              "      <td>Sony Computer Entertainment</td>\n",
              "      <td>NaN</td>\n",
              "      <td>NaN</td>\n",
              "      <td>NaN</td>\n",
              "      <td>3.71m</td>\n",
              "      <td>NaN</td>\n",
              "      <td>NaN</td>\n",
              "      <td>NaN</td>\n",
              "      <td>NaN</td>\n",
              "      <td>NaN</td>\n",
              "      <td>07th Nov 02</td>\n",
              "      <td>NaN</td>\n",
              "      <td>Platform</td>\n",
              "    </tr>\n",
              "    <tr>\n",
              "      <th>2</th>\n",
              "      <td>FIFA 17</td>\n",
              "      <td>XOne</td>\n",
              "      <td>Electronic Arts</td>\n",
              "      <td>NaN</td>\n",
              "      <td>8.8</td>\n",
              "      <td>NaN</td>\n",
              "      <td>NaN</td>\n",
              "      <td>3.71m</td>\n",
              "      <td>1.04m</td>\n",
              "      <td>2.40m</td>\n",
              "      <td>NaN</td>\n",
              "      <td>0.27m</td>\n",
              "      <td>27th Sep 16</td>\n",
              "      <td>28th Mar 18</td>\n",
              "      <td>Sports</td>\n",
              "    </tr>\n",
              "    <tr>\n",
              "      <th>3</th>\n",
              "      <td>Hitman 2: Silent Assassin</td>\n",
              "      <td>All</td>\n",
              "      <td>Eidos Interactive</td>\n",
              "      <td>NaN</td>\n",
              "      <td>NaN</td>\n",
              "      <td>NaN</td>\n",
              "      <td>3.71m</td>\n",
              "      <td>NaN</td>\n",
              "      <td>NaN</td>\n",
              "      <td>NaN</td>\n",
              "      <td>NaN</td>\n",
              "      <td>NaN</td>\n",
              "      <td>01st Oct 02</td>\n",
              "      <td>26th Oct 20</td>\n",
              "      <td>Action-Adventure</td>\n",
              "    </tr>\n",
              "    <tr>\n",
              "      <th>4</th>\n",
              "      <td>FIFA Soccer 2005</td>\n",
              "      <td>PS2</td>\n",
              "      <td>EA Sports</td>\n",
              "      <td>NaN</td>\n",
              "      <td>8.4</td>\n",
              "      <td>NaN</td>\n",
              "      <td>NaN</td>\n",
              "      <td>3.70m</td>\n",
              "      <td>0.58m</td>\n",
              "      <td>2.48m</td>\n",
              "      <td>0.04m</td>\n",
              "      <td>0.59m</td>\n",
              "      <td>12th Oct 04</td>\n",
              "      <td>NaN</td>\n",
              "      <td>Sports</td>\n",
              "    </tr>\n",
              "  </tbody>\n",
              "</table>\n",
              "</div>\n",
              "      <button class=\"colab-df-convert\" onclick=\"convertToInteractive('df-042fa410-65aa-4512-adf5-59c3f9a00ef2')\"\n",
              "              title=\"Convert this dataframe to an interactive table.\"\n",
              "              style=\"display:none;\">\n",
              "        \n",
              "  <svg xmlns=\"http://www.w3.org/2000/svg\" height=\"24px\"viewBox=\"0 0 24 24\"\n",
              "       width=\"24px\">\n",
              "    <path d=\"M0 0h24v24H0V0z\" fill=\"none\"/>\n",
              "    <path d=\"M18.56 5.44l.94 2.06.94-2.06 2.06-.94-2.06-.94-.94-2.06-.94 2.06-2.06.94zm-11 1L8.5 8.5l.94-2.06 2.06-.94-2.06-.94L8.5 2.5l-.94 2.06-2.06.94zm10 10l.94 2.06.94-2.06 2.06-.94-2.06-.94-.94-2.06-.94 2.06-2.06.94z\"/><path d=\"M17.41 7.96l-1.37-1.37c-.4-.4-.92-.59-1.43-.59-.52 0-1.04.2-1.43.59L10.3 9.45l-7.72 7.72c-.78.78-.78 2.05 0 2.83L4 21.41c.39.39.9.59 1.41.59.51 0 1.02-.2 1.41-.59l7.78-7.78 2.81-2.81c.8-.78.8-2.07 0-2.86zM5.41 20L4 18.59l7.72-7.72 1.47 1.35L5.41 20z\"/>\n",
              "  </svg>\n",
              "      </button>\n",
              "      \n",
              "  <style>\n",
              "    .colab-df-container {\n",
              "      display:flex;\n",
              "      flex-wrap:wrap;\n",
              "      gap: 12px;\n",
              "    }\n",
              "\n",
              "    .colab-df-convert {\n",
              "      background-color: #E8F0FE;\n",
              "      border: none;\n",
              "      border-radius: 50%;\n",
              "      cursor: pointer;\n",
              "      display: none;\n",
              "      fill: #1967D2;\n",
              "      height: 32px;\n",
              "      padding: 0 0 0 0;\n",
              "      width: 32px;\n",
              "    }\n",
              "\n",
              "    .colab-df-convert:hover {\n",
              "      background-color: #E2EBFA;\n",
              "      box-shadow: 0px 1px 2px rgba(60, 64, 67, 0.3), 0px 1px 3px 1px rgba(60, 64, 67, 0.15);\n",
              "      fill: #174EA6;\n",
              "    }\n",
              "\n",
              "    [theme=dark] .colab-df-convert {\n",
              "      background-color: #3B4455;\n",
              "      fill: #D2E3FC;\n",
              "    }\n",
              "\n",
              "    [theme=dark] .colab-df-convert:hover {\n",
              "      background-color: #434B5C;\n",
              "      box-shadow: 0px 1px 3px 1px rgba(0, 0, 0, 0.15);\n",
              "      filter: drop-shadow(0px 1px 2px rgba(0, 0, 0, 0.3));\n",
              "      fill: #FFFFFF;\n",
              "    }\n",
              "  </style>\n",
              "\n",
              "      <script>\n",
              "        const buttonEl =\n",
              "          document.querySelector('#df-042fa410-65aa-4512-adf5-59c3f9a00ef2 button.colab-df-convert');\n",
              "        buttonEl.style.display =\n",
              "          google.colab.kernel.accessAllowed ? 'block' : 'none';\n",
              "\n",
              "        async function convertToInteractive(key) {\n",
              "          const element = document.querySelector('#df-042fa410-65aa-4512-adf5-59c3f9a00ef2');\n",
              "          const dataTable =\n",
              "            await google.colab.kernel.invokeFunction('convertToInteractive',\n",
              "                                                     [key], {});\n",
              "          if (!dataTable) return;\n",
              "\n",
              "          const docLinkHtml = 'Like what you see? Visit the ' +\n",
              "            '<a target=\"_blank\" href=https://colab.research.google.com/notebooks/data_table.ipynb>data table notebook</a>'\n",
              "            + ' to learn more about interactive tables.';\n",
              "          element.innerHTML = '';\n",
              "          dataTable['output_type'] = 'display_data';\n",
              "          await google.colab.output.renderOutput(dataTable, element);\n",
              "          const docLink = document.createElement('div');\n",
              "          docLink.innerHTML = docLinkHtml;\n",
              "          element.appendChild(docLink);\n",
              "        }\n",
              "      </script>\n",
              "    </div>\n",
              "  </div>\n",
              "  "
            ]
          },
          "metadata": {},
          "execution_count": 40
        }
      ]
    },
    {
      "cell_type": "markdown",
      "source": [
        "**Step 9.**Using os module find out list of directory in VG_chart_file folder and using loop find out final_df"
      ],
      "metadata": {
        "id": "M3m_ymYAJRb5"
      }
    },
    {
      "cell_type": "code",
      "source": [
        "dir_list=os.listdir('/content/drive/MyDrive/Web_Scraping/Vg_Chart.com/Using_BeautifulSoup/VG_chart_file')"
      ],
      "metadata": {
        "id": "Iq2a8IVCTTuA"
      },
      "execution_count": null,
      "outputs": []
    },
    {
      "cell_type": "code",
      "source": [
        "final_df=pd.DataFrame(columns=header_list)\n",
        "for i in range(1,len(dir_list)):\n",
        "    df=df=pd.read_csv(f'/content/drive/MyDrive/Web_Scraping/Vg_Chart.com/Using_BeautifulSoup/VG_chart_file/{dir_list[i]}')\n",
        "    final_df=pd.concat([final_df,df],ignore_index=True) "
      ],
      "metadata": {
        "id": "pNm0okV10Qfa"
      },
      "execution_count": null,
      "outputs": []
    },
    {
      "cell_type": "code",
      "source": [
        "final_df.info()"
      ],
      "metadata": {
        "colab": {
          "base_uri": "https://localhost:8080/"
        },
        "id": "1DRL5jtHR0ky",
        "outputId": "adfe039c-7ffc-4eab-da2a-449103cfe790"
      },
      "execution_count": null,
      "outputs": [
        {
          "output_type": "stream",
          "name": "stdout",
          "text": [
            "<class 'pandas.core.frame.DataFrame'>\n",
            "RangeIndex: 1200 entries, 0 to 1199\n",
            "Data columns (total 15 columns):\n",
            " #   Column          Non-Null Count  Dtype  \n",
            "---  ------          --------------  -----  \n",
            " 0   Game            1200 non-null   object \n",
            " 1   Console         1200 non-null   object \n",
            " 2   Publisher       1200 non-null   object \n",
            " 3   VGChartz Score  155 non-null    float64\n",
            " 4   Critic Score    428 non-null    float64\n",
            " 5   User Score      73 non-null     float64\n",
            " 6   Total Shipped   940 non-null    object \n",
            " 7   Total Sales     260 non-null    object \n",
            " 8   NA Sales        260 non-null    object \n",
            " 9   PAL Sales       260 non-null    object \n",
            " 10  Japan Sales     211 non-null    object \n",
            " 11  Other Sales     260 non-null    object \n",
            " 12  Release Date    1200 non-null   object \n",
            " 13  Last Update     840 non-null    object \n",
            " 14  Genre           1200 non-null   object \n",
            "dtypes: float64(3), object(12)\n",
            "memory usage: 140.8+ KB\n"
          ]
        }
      ]
    },
    {
      "cell_type": "code",
      "source": [
        "final_df.to_csv(\"/content/drive/MyDrive/Web_Scraping/Vg_Chart.com/Using_BeautifulSoup/extracted_df.csv\",index=False)"
      ],
      "metadata": {
        "id": "_80fzyxtMZPN"
      },
      "execution_count": null,
      "outputs": []
    },
    {
      "cell_type": "code",
      "source": [
        "pd.read_csv('/content/drive/MyDrive/Web_Scraping/Vg_Chart.com/Using_BeautifulSoup/extracted_df.csv')"
      ],
      "metadata": {
        "colab": {
          "base_uri": "https://localhost:8080/",
          "height": 659
        },
        "id": "iQNqyP0VMzCn",
        "outputId": "74c89b4a-6469-4e9c-ae76-7ce422d1b5f3"
      },
      "execution_count": null,
      "outputs": [
        {
          "output_type": "execute_result",
          "data": {
            "text/plain": [
              "                                  Game Console        Publisher  \\\n",
              "0                               Tetris  Series         Nintendo   \n",
              "1                              Pokemon  Series         Nintendo   \n",
              "2                         Call of Duty  Series       Activision   \n",
              "3                          Super Mario  Series         Nintendo   \n",
              "4                     Grand Theft Auto  Series   Rockstar Games   \n",
              "...                                ...     ...              ...   \n",
              "1195                     Borderlands 2    X360         2K Games   \n",
              "1196                 Fire Emblem Fates     3DS         Nintendo   \n",
              "1197                     Kung Fu Panda    X360       Activision   \n",
              "1198  Mass Effect 3    Read the review    X360  Electronic Arts   \n",
              "1199  Rhythm Heaven    Read the review      DS         Nintendo   \n",
              "\n",
              "      VGChartz Score  Critic Score  User Score Total Shipped Total Sales  \\\n",
              "0                NaN           NaN         NaN       496.40m         NaN   \n",
              "1                NaN           NaN         NaN       442.94m         NaN   \n",
              "2                NaN           NaN         NaN       400.00m         NaN   \n",
              "3                NaN           NaN         NaN       394.96m         NaN   \n",
              "4                NaN           NaN         NaN       385.00m         NaN   \n",
              "...              ...           ...         ...           ...         ...   \n",
              "1195             NaN           NaN         NaN           NaN       3.06m   \n",
              "1196             NaN           NaN         NaN         3.05m         NaN   \n",
              "1197             NaN           7.5         NaN           NaN       3.05m   \n",
              "1198             9.4           NaN         NaN           NaN       3.04m   \n",
              "1199             8.9           8.5         NaN         3.04m         NaN   \n",
              "\n",
              "     NA Sales PAL Sales Japan Sales Other Sales Release Date  Last Update  \\\n",
              "0         NaN       NaN         NaN         NaN  31st Jul 89  27th Feb 20   \n",
              "1         NaN       NaN         NaN         NaN  28th Sep 98  03rd Feb 20   \n",
              "2         NaN       NaN         NaN         NaN  29th Oct 03  03rd Feb 20   \n",
              "3         NaN       NaN         NaN         NaN  20th Jul 83  20th Feb 20   \n",
              "4         NaN       NaN         NaN         NaN  27th Mar 98  03rd Feb 20   \n",
              "...       ...       ...         ...         ...          ...          ...   \n",
              "1195    1.89m     0.88m       0.04m       0.26m  15th Jan 13          NaN   \n",
              "1196      NaN       NaN         NaN         NaN  19th Feb 16  31st Dec 17   \n",
              "1197    1.91m     0.84m         NaN       0.29m  03rd Jun 08          NaN   \n",
              "1198    1.94m     0.84m       0.03m       0.24m  06th Mar 12          NaN   \n",
              "1199      NaN       NaN         NaN         NaN  05th Apr 09  31st May 18   \n",
              "\n",
              "                 Genre  \n",
              "0               Puzzle  \n",
              "1         Role-Playing  \n",
              "2              Shooter  \n",
              "3             Platform  \n",
              "4     Action-Adventure  \n",
              "...                ...  \n",
              "1195           Shooter  \n",
              "1196      Role-Playing  \n",
              "1197          Platform  \n",
              "1198      Role-Playing  \n",
              "1199             Music  \n",
              "\n",
              "[1200 rows x 15 columns]"
            ],
            "text/html": [
              "\n",
              "  <div id=\"df-990ff9ce-155d-4860-8046-9b8485fd90be\">\n",
              "    <div class=\"colab-df-container\">\n",
              "      <div>\n",
              "<style scoped>\n",
              "    .dataframe tbody tr th:only-of-type {\n",
              "        vertical-align: middle;\n",
              "    }\n",
              "\n",
              "    .dataframe tbody tr th {\n",
              "        vertical-align: top;\n",
              "    }\n",
              "\n",
              "    .dataframe thead th {\n",
              "        text-align: right;\n",
              "    }\n",
              "</style>\n",
              "<table border=\"1\" class=\"dataframe\">\n",
              "  <thead>\n",
              "    <tr style=\"text-align: right;\">\n",
              "      <th></th>\n",
              "      <th>Game</th>\n",
              "      <th>Console</th>\n",
              "      <th>Publisher</th>\n",
              "      <th>VGChartz Score</th>\n",
              "      <th>Critic Score</th>\n",
              "      <th>User Score</th>\n",
              "      <th>Total Shipped</th>\n",
              "      <th>Total Sales</th>\n",
              "      <th>NA Sales</th>\n",
              "      <th>PAL Sales</th>\n",
              "      <th>Japan Sales</th>\n",
              "      <th>Other Sales</th>\n",
              "      <th>Release Date</th>\n",
              "      <th>Last Update</th>\n",
              "      <th>Genre</th>\n",
              "    </tr>\n",
              "  </thead>\n",
              "  <tbody>\n",
              "    <tr>\n",
              "      <th>0</th>\n",
              "      <td>Tetris</td>\n",
              "      <td>Series</td>\n",
              "      <td>Nintendo</td>\n",
              "      <td>NaN</td>\n",
              "      <td>NaN</td>\n",
              "      <td>NaN</td>\n",
              "      <td>496.40m</td>\n",
              "      <td>NaN</td>\n",
              "      <td>NaN</td>\n",
              "      <td>NaN</td>\n",
              "      <td>NaN</td>\n",
              "      <td>NaN</td>\n",
              "      <td>31st Jul 89</td>\n",
              "      <td>27th Feb 20</td>\n",
              "      <td>Puzzle</td>\n",
              "    </tr>\n",
              "    <tr>\n",
              "      <th>1</th>\n",
              "      <td>Pokemon</td>\n",
              "      <td>Series</td>\n",
              "      <td>Nintendo</td>\n",
              "      <td>NaN</td>\n",
              "      <td>NaN</td>\n",
              "      <td>NaN</td>\n",
              "      <td>442.94m</td>\n",
              "      <td>NaN</td>\n",
              "      <td>NaN</td>\n",
              "      <td>NaN</td>\n",
              "      <td>NaN</td>\n",
              "      <td>NaN</td>\n",
              "      <td>28th Sep 98</td>\n",
              "      <td>03rd Feb 20</td>\n",
              "      <td>Role-Playing</td>\n",
              "    </tr>\n",
              "    <tr>\n",
              "      <th>2</th>\n",
              "      <td>Call of Duty</td>\n",
              "      <td>Series</td>\n",
              "      <td>Activision</td>\n",
              "      <td>NaN</td>\n",
              "      <td>NaN</td>\n",
              "      <td>NaN</td>\n",
              "      <td>400.00m</td>\n",
              "      <td>NaN</td>\n",
              "      <td>NaN</td>\n",
              "      <td>NaN</td>\n",
              "      <td>NaN</td>\n",
              "      <td>NaN</td>\n",
              "      <td>29th Oct 03</td>\n",
              "      <td>03rd Feb 20</td>\n",
              "      <td>Shooter</td>\n",
              "    </tr>\n",
              "    <tr>\n",
              "      <th>3</th>\n",
              "      <td>Super Mario</td>\n",
              "      <td>Series</td>\n",
              "      <td>Nintendo</td>\n",
              "      <td>NaN</td>\n",
              "      <td>NaN</td>\n",
              "      <td>NaN</td>\n",
              "      <td>394.96m</td>\n",
              "      <td>NaN</td>\n",
              "      <td>NaN</td>\n",
              "      <td>NaN</td>\n",
              "      <td>NaN</td>\n",
              "      <td>NaN</td>\n",
              "      <td>20th Jul 83</td>\n",
              "      <td>20th Feb 20</td>\n",
              "      <td>Platform</td>\n",
              "    </tr>\n",
              "    <tr>\n",
              "      <th>4</th>\n",
              "      <td>Grand Theft Auto</td>\n",
              "      <td>Series</td>\n",
              "      <td>Rockstar Games</td>\n",
              "      <td>NaN</td>\n",
              "      <td>NaN</td>\n",
              "      <td>NaN</td>\n",
              "      <td>385.00m</td>\n",
              "      <td>NaN</td>\n",
              "      <td>NaN</td>\n",
              "      <td>NaN</td>\n",
              "      <td>NaN</td>\n",
              "      <td>NaN</td>\n",
              "      <td>27th Mar 98</td>\n",
              "      <td>03rd Feb 20</td>\n",
              "      <td>Action-Adventure</td>\n",
              "    </tr>\n",
              "    <tr>\n",
              "      <th>...</th>\n",
              "      <td>...</td>\n",
              "      <td>...</td>\n",
              "      <td>...</td>\n",
              "      <td>...</td>\n",
              "      <td>...</td>\n",
              "      <td>...</td>\n",
              "      <td>...</td>\n",
              "      <td>...</td>\n",
              "      <td>...</td>\n",
              "      <td>...</td>\n",
              "      <td>...</td>\n",
              "      <td>...</td>\n",
              "      <td>...</td>\n",
              "      <td>...</td>\n",
              "      <td>...</td>\n",
              "    </tr>\n",
              "    <tr>\n",
              "      <th>1195</th>\n",
              "      <td>Borderlands 2</td>\n",
              "      <td>X360</td>\n",
              "      <td>2K Games</td>\n",
              "      <td>NaN</td>\n",
              "      <td>NaN</td>\n",
              "      <td>NaN</td>\n",
              "      <td>NaN</td>\n",
              "      <td>3.06m</td>\n",
              "      <td>1.89m</td>\n",
              "      <td>0.88m</td>\n",
              "      <td>0.04m</td>\n",
              "      <td>0.26m</td>\n",
              "      <td>15th Jan 13</td>\n",
              "      <td>NaN</td>\n",
              "      <td>Shooter</td>\n",
              "    </tr>\n",
              "    <tr>\n",
              "      <th>1196</th>\n",
              "      <td>Fire Emblem Fates</td>\n",
              "      <td>3DS</td>\n",
              "      <td>Nintendo</td>\n",
              "      <td>NaN</td>\n",
              "      <td>NaN</td>\n",
              "      <td>NaN</td>\n",
              "      <td>3.05m</td>\n",
              "      <td>NaN</td>\n",
              "      <td>NaN</td>\n",
              "      <td>NaN</td>\n",
              "      <td>NaN</td>\n",
              "      <td>NaN</td>\n",
              "      <td>19th Feb 16</td>\n",
              "      <td>31st Dec 17</td>\n",
              "      <td>Role-Playing</td>\n",
              "    </tr>\n",
              "    <tr>\n",
              "      <th>1197</th>\n",
              "      <td>Kung Fu Panda</td>\n",
              "      <td>X360</td>\n",
              "      <td>Activision</td>\n",
              "      <td>NaN</td>\n",
              "      <td>7.5</td>\n",
              "      <td>NaN</td>\n",
              "      <td>NaN</td>\n",
              "      <td>3.05m</td>\n",
              "      <td>1.91m</td>\n",
              "      <td>0.84m</td>\n",
              "      <td>NaN</td>\n",
              "      <td>0.29m</td>\n",
              "      <td>03rd Jun 08</td>\n",
              "      <td>NaN</td>\n",
              "      <td>Platform</td>\n",
              "    </tr>\n",
              "    <tr>\n",
              "      <th>1198</th>\n",
              "      <td>Mass Effect 3    Read the review</td>\n",
              "      <td>X360</td>\n",
              "      <td>Electronic Arts</td>\n",
              "      <td>9.4</td>\n",
              "      <td>NaN</td>\n",
              "      <td>NaN</td>\n",
              "      <td>NaN</td>\n",
              "      <td>3.04m</td>\n",
              "      <td>1.94m</td>\n",
              "      <td>0.84m</td>\n",
              "      <td>0.03m</td>\n",
              "      <td>0.24m</td>\n",
              "      <td>06th Mar 12</td>\n",
              "      <td>NaN</td>\n",
              "      <td>Role-Playing</td>\n",
              "    </tr>\n",
              "    <tr>\n",
              "      <th>1199</th>\n",
              "      <td>Rhythm Heaven    Read the review</td>\n",
              "      <td>DS</td>\n",
              "      <td>Nintendo</td>\n",
              "      <td>8.9</td>\n",
              "      <td>8.5</td>\n",
              "      <td>NaN</td>\n",
              "      <td>3.04m</td>\n",
              "      <td>NaN</td>\n",
              "      <td>NaN</td>\n",
              "      <td>NaN</td>\n",
              "      <td>NaN</td>\n",
              "      <td>NaN</td>\n",
              "      <td>05th Apr 09</td>\n",
              "      <td>31st May 18</td>\n",
              "      <td>Music</td>\n",
              "    </tr>\n",
              "  </tbody>\n",
              "</table>\n",
              "<p>1200 rows × 15 columns</p>\n",
              "</div>\n",
              "      <button class=\"colab-df-convert\" onclick=\"convertToInteractive('df-990ff9ce-155d-4860-8046-9b8485fd90be')\"\n",
              "              title=\"Convert this dataframe to an interactive table.\"\n",
              "              style=\"display:none;\">\n",
              "        \n",
              "  <svg xmlns=\"http://www.w3.org/2000/svg\" height=\"24px\"viewBox=\"0 0 24 24\"\n",
              "       width=\"24px\">\n",
              "    <path d=\"M0 0h24v24H0V0z\" fill=\"none\"/>\n",
              "    <path d=\"M18.56 5.44l.94 2.06.94-2.06 2.06-.94-2.06-.94-.94-2.06-.94 2.06-2.06.94zm-11 1L8.5 8.5l.94-2.06 2.06-.94-2.06-.94L8.5 2.5l-.94 2.06-2.06.94zm10 10l.94 2.06.94-2.06 2.06-.94-2.06-.94-.94-2.06-.94 2.06-2.06.94z\"/><path d=\"M17.41 7.96l-1.37-1.37c-.4-.4-.92-.59-1.43-.59-.52 0-1.04.2-1.43.59L10.3 9.45l-7.72 7.72c-.78.78-.78 2.05 0 2.83L4 21.41c.39.39.9.59 1.41.59.51 0 1.02-.2 1.41-.59l7.78-7.78 2.81-2.81c.8-.78.8-2.07 0-2.86zM5.41 20L4 18.59l7.72-7.72 1.47 1.35L5.41 20z\"/>\n",
              "  </svg>\n",
              "      </button>\n",
              "      \n",
              "  <style>\n",
              "    .colab-df-container {\n",
              "      display:flex;\n",
              "      flex-wrap:wrap;\n",
              "      gap: 12px;\n",
              "    }\n",
              "\n",
              "    .colab-df-convert {\n",
              "      background-color: #E8F0FE;\n",
              "      border: none;\n",
              "      border-radius: 50%;\n",
              "      cursor: pointer;\n",
              "      display: none;\n",
              "      fill: #1967D2;\n",
              "      height: 32px;\n",
              "      padding: 0 0 0 0;\n",
              "      width: 32px;\n",
              "    }\n",
              "\n",
              "    .colab-df-convert:hover {\n",
              "      background-color: #E2EBFA;\n",
              "      box-shadow: 0px 1px 2px rgba(60, 64, 67, 0.3), 0px 1px 3px 1px rgba(60, 64, 67, 0.15);\n",
              "      fill: #174EA6;\n",
              "    }\n",
              "\n",
              "    [theme=dark] .colab-df-convert {\n",
              "      background-color: #3B4455;\n",
              "      fill: #D2E3FC;\n",
              "    }\n",
              "\n",
              "    [theme=dark] .colab-df-convert:hover {\n",
              "      background-color: #434B5C;\n",
              "      box-shadow: 0px 1px 3px 1px rgba(0, 0, 0, 0.15);\n",
              "      filter: drop-shadow(0px 1px 2px rgba(0, 0, 0, 0.3));\n",
              "      fill: #FFFFFF;\n",
              "    }\n",
              "  </style>\n",
              "\n",
              "      <script>\n",
              "        const buttonEl =\n",
              "          document.querySelector('#df-990ff9ce-155d-4860-8046-9b8485fd90be button.colab-df-convert');\n",
              "        buttonEl.style.display =\n",
              "          google.colab.kernel.accessAllowed ? 'block' : 'none';\n",
              "\n",
              "        async function convertToInteractive(key) {\n",
              "          const element = document.querySelector('#df-990ff9ce-155d-4860-8046-9b8485fd90be');\n",
              "          const dataTable =\n",
              "            await google.colab.kernel.invokeFunction('convertToInteractive',\n",
              "                                                     [key], {});\n",
              "          if (!dataTable) return;\n",
              "\n",
              "          const docLinkHtml = 'Like what you see? Visit the ' +\n",
              "            '<a target=\"_blank\" href=https://colab.research.google.com/notebooks/data_table.ipynb>data table notebook</a>'\n",
              "            + ' to learn more about interactive tables.';\n",
              "          element.innerHTML = '';\n",
              "          dataTable['output_type'] = 'display_data';\n",
              "          await google.colab.output.renderOutput(dataTable, element);\n",
              "          const docLink = document.createElement('div');\n",
              "          docLink.innerHTML = docLinkHtml;\n",
              "          element.appendChild(docLink);\n",
              "        }\n",
              "      </script>\n",
              "    </div>\n",
              "  </div>\n",
              "  "
            ]
          },
          "metadata": {},
          "execution_count": 15
        }
      ]
    }
  ]
}